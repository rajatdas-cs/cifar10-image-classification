{
  "nbformat": 4,
  "nbformat_minor": 0,
  "metadata": {
    "colab": {
      "provenance": []
    },
    "kernelspec": {
      "name": "python3",
      "display_name": "Python 3"
    },
    "language_info": {
      "name": "python"
    }
  },
  "cells": [
    {
      "cell_type": "code",
      "execution_count": 13,
      "metadata": {
        "id": "IHVd-JPc7RGU"
      },
      "outputs": [],
      "source": [
        "# Import the necessary libraries\n",
        "import tensorflow as tf\n",
        "import numpy as np\n",
        "import pickle\n",
        "from matplotlib import pyplot as plt\n",
        "import random"
      ]
    },
    {
      "cell_type": "code",
      "source": [
        "# Loading the dataset, the tricky part\n",
        "# Function to load a batch of data\n",
        "def unpickle(file):\n",
        "    with open(file, 'rb') as fo:\n",
        "        dict = pickle.load(fo, encoding='bytes')\n",
        "    return dict\n",
        "\n",
        "# Load the label names\n",
        "meta_data = unpickle('batches.meta')\n",
        "label_names = meta_data[b'label_names']\n",
        "\n",
        "# Load the training data\n",
        "x_train = []\n",
        "y_train = []\n",
        "for batch_id in range(1, 6):\n",
        "    batch_data = unpickle(f'data_batch_{batch_id}')\n",
        "    x_train.extend(batch_data[b'data'])\n",
        "    y_train.extend(batch_data[b'labels'])\n",
        "\n",
        "x_train = np.array(x_train, dtype=np.float32)\n",
        "y_train = np.array(y_train)\n",
        "\n",
        "# Load the test data\n",
        "test_data = unpickle('test_batch')\n",
        "x_test = np.array(test_data[b'data'], dtype=np.float32)\n",
        "y_test = np.array(test_data[b'labels'])"
      ],
      "metadata": {
        "id": "SDdQT3BU-v6n"
      },
      "execution_count": 14,
      "outputs": []
    },
    {
      "cell_type": "code",
      "source": [
        "# Preprocess the data\n",
        "x_train = x_train.reshape(-1, 3, 32, 32).transpose(0, 2, 3, 1) / 255.0\n",
        "x_test = x_test.reshape(-1, 3, 32, 32).transpose(0, 2, 3, 1) / 255.0\n",
        "\n",
        "# Shuffle the training data\n",
        "indices = np.random.permutation(len(x_train))\n",
        "x_train = x_train[indices]\n",
        "y_train = y_train[indices]\n",
        "\n",
        "# Split the data into training and validation sets\n",
        "split_idx = int(0.8 * len(x_train))\n",
        "x_train, x_val = x_train[:split_idx], x_train[split_idx:]\n",
        "y_train, y_val = y_train[:split_idx], y_train[split_idx:]"
      ],
      "metadata": {
        "id": "YjH6Ig6O_LPD"
      },
      "execution_count": 15,
      "outputs": []
    },
    {
      "cell_type": "code",
      "source": [
        "# Build the model\n",
        "model = tf.keras.Sequential([\n",
        "    tf.keras.layers.Conv2D(32, (3, 3), activation='relu', padding='same', input_shape=x_train.shape[1:]),\n",
        "    tf.keras.layers.Conv2D(32, (3, 3), activation='relu', padding='same'),\n",
        "    tf.keras.layers.MaxPooling2D((2, 2)),\n",
        "    tf.keras.layers.Dropout(0.25),\n",
        "\n",
        "    tf.keras.layers.Conv2D(64, (3, 3), activation='relu', padding='same'),\n",
        "    tf.keras.layers.Conv2D(64, (3, 3), activation='relu', padding='same'),\n",
        "    tf.keras.layers.MaxPooling2D((2, 2)),\n",
        "    tf.keras.layers.Dropout(0.25),\n",
        "\n",
        "    tf.keras.layers.Flatten(),\n",
        "    tf.keras.layers.Dense(512, activation='relu'),\n",
        "    tf.keras.layers.Dropout(0.5),\n",
        "    tf.keras.layers.Dense(10, activation='softmax')\n",
        "])"
      ],
      "metadata": {
        "id": "CESHPMKx_VfA"
      },
      "execution_count": 16,
      "outputs": []
    },
    {
      "cell_type": "code",
      "source": [
        "# Compile the model\n",
        "model.compile(optimizer='adam',\n",
        "              loss='sparse_categorical_crossentropy',\n",
        "              metrics=['accuracy'])\n",
        "\n",
        "# Train the model\n",
        "history = model.fit(x_train, y_train, epochs=10, batch_size=128, validation_data=(x_val, y_val), verbose=1)\n"
      ],
      "metadata": {
        "colab": {
          "base_uri": "https://localhost:8080/"
        },
        "id": "6lzQAi_v_a_F",
        "outputId": "7b40e5f0-40e4-4fad-a603-e39b8403c85a"
      },
      "execution_count": 17,
      "outputs": [
        {
          "output_type": "stream",
          "name": "stdout",
          "text": [
            "Epoch 1/10\n",
            "313/313 [==============================] - 216s 686ms/step - loss: 1.7096 - accuracy: 0.3734 - val_loss: 1.3596 - val_accuracy: 0.5025\n",
            "Epoch 2/10\n",
            "313/313 [==============================] - 212s 678ms/step - loss: 1.2921 - accuracy: 0.5362 - val_loss: 1.0945 - val_accuracy: 0.6086\n",
            "Epoch 3/10\n",
            "313/313 [==============================] - 201s 641ms/step - loss: 1.1151 - accuracy: 0.6048 - val_loss: 1.0006 - val_accuracy: 0.6438\n",
            "Epoch 4/10\n",
            "313/313 [==============================] - 199s 635ms/step - loss: 0.9890 - accuracy: 0.6489 - val_loss: 0.8911 - val_accuracy: 0.6895\n",
            "Epoch 5/10\n",
            "313/313 [==============================] - 199s 634ms/step - loss: 0.8920 - accuracy: 0.6834 - val_loss: 0.8171 - val_accuracy: 0.7130\n",
            "Epoch 6/10\n",
            "313/313 [==============================] - 212s 679ms/step - loss: 0.8303 - accuracy: 0.7059 - val_loss: 0.7724 - val_accuracy: 0.7308\n",
            "Epoch 7/10\n",
            "313/313 [==============================] - 209s 667ms/step - loss: 0.7642 - accuracy: 0.7287 - val_loss: 0.7370 - val_accuracy: 0.7434\n",
            "Epoch 8/10\n",
            "313/313 [==============================] - 207s 663ms/step - loss: 0.7182 - accuracy: 0.7491 - val_loss: 0.7521 - val_accuracy: 0.7354\n",
            "Epoch 9/10\n",
            "313/313 [==============================] - 207s 663ms/step - loss: 0.6687 - accuracy: 0.7634 - val_loss: 0.6914 - val_accuracy: 0.7573\n",
            "Epoch 10/10\n",
            "313/313 [==============================] - 209s 669ms/step - loss: 0.6237 - accuracy: 0.7785 - val_loss: 0.6909 - val_accuracy: 0.7582\n"
          ]
        }
      ]
    },
    {
      "cell_type": "code",
      "source": [
        "# Evaluate the model on the test set\n",
        "test_loss, test_acc = model.evaluate(x_test, y_test)\n",
        "print(f'Test accuracy: {test_acc:.4f}')"
      ],
      "metadata": {
        "colab": {
          "base_uri": "https://localhost:8080/"
        },
        "id": "8xPzbI2I_hZH",
        "outputId": "9200a9c7-1b3b-41a8-da8a-5cb27c2f0beb"
      },
      "execution_count": 18,
      "outputs": [
        {
          "output_type": "stream",
          "name": "stdout",
          "text": [
            "313/313 [==============================] - 13s 43ms/step - loss: 0.7108 - accuracy: 0.7573\n",
            "Test accuracy: 0.7573\n"
          ]
        }
      ]
    },
    {
      "cell_type": "code",
      "source": [
        "# Visualize a sample test image and its prediction\n",
        "sample_idx = random.randint(0, len(x_test) - 1)\n",
        "sample_image = x_test[sample_idx]\n",
        "prediction = model.predict(sample_image.reshape(1, *sample_image.shape))\n",
        "predicted_label = np.argmax(prediction)\n",
        "\n",
        "plt.imshow(sample_image)\n",
        "plt.title(f'True Label: {label_names[y_test[sample_idx]]}, Predicted Label: {label_names[predicted_label]}')\n",
        "plt.show()"
      ],
      "metadata": {
        "colab": {
          "base_uri": "https://localhost:8080/",
          "height": 470
        },
        "id": "1UTve9gdJWFS",
        "outputId": "e9558ac8-931c-489c-8fc4-df32eba19a7b"
      },
      "execution_count": 22,
      "outputs": [
        {
          "output_type": "stream",
          "name": "stdout",
          "text": [
            "1/1 [==============================] - 0s 23ms/step\n"
          ]
        },
        {
          "output_type": "display_data",
          "data": {
            "text/plain": [
              "<Figure size 640x480 with 1 Axes>"
            ],
            "image/png": "[encoded data removed]"
          },
          "metadata": {}
        }
      ]
    },
    {
      "cell_type": "code",
      "source": [],
      "metadata": {
        "id": "FlZfhMvfJfIL"
      },
      "execution_count": 19,
      "outputs": []
    }
  ]
}